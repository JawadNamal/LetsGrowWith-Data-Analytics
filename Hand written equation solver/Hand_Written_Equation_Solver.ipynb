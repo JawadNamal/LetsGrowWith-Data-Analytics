{
  "cells": [
    {
      "cell_type": "code",
      "execution_count": 3,
      "metadata": {
        "id": "04_hcTyFjrf_"
      },
      "outputs": [
        {
          "ename": "ModuleNotFoundError",
          "evalue": "No module named 'tensorflow'",
          "output_type": "error",
          "traceback": [
            "\u001b[1;31m---------------------------------------------------------------------------\u001b[0m",
            "\u001b[1;31mModuleNotFoundError\u001b[0m                       Traceback (most recent call last)",
            "\u001b[1;32mc:\\Users\\jawad\\OneDrive\\Desktop\\Lets Grow With\\Data Science\\Equation solver\\Hand_Written_Equation_Solver.ipynb Cell 1\u001b[0m in \u001b[0;36m<cell line: 15>\u001b[1;34m()\u001b[0m\n\u001b[0;32m     <a href='vscode-notebook-cell:/c%3A/Users/jawad/OneDrive/Desktop/Lets%20Grow%20With/Data%20Science/Equation%20solver/Hand_Written_Equation_Solver.ipynb#W0sZmlsZQ%3D%3D?line=12'>13</a>\u001b[0m \u001b[39mimport\u001b[39;00m \u001b[39mseaborn\u001b[39;00m \u001b[39mas\u001b[39;00m \u001b[39msns\u001b[39;00m\n\u001b[0;32m     <a href='vscode-notebook-cell:/c%3A/Users/jawad/OneDrive/Desktop/Lets%20Grow%20With/Data%20Science/Equation%20solver/Hand_Written_Equation_Solver.ipynb#W0sZmlsZQ%3D%3D?line=13'>14</a>\u001b[0m \u001b[39mfrom\u001b[39;00m \u001b[39msklearn\u001b[39;00m\u001b[39m.\u001b[39;00m\u001b[39mpreprocessing\u001b[39;00m \u001b[39mimport\u001b[39;00m LabelBinarizer\n\u001b[1;32m---> <a href='vscode-notebook-cell:/c%3A/Users/jawad/OneDrive/Desktop/Lets%20Grow%20With/Data%20Science/Equation%20solver/Hand_Written_Equation_Solver.ipynb#W0sZmlsZQ%3D%3D?line=14'>15</a>\u001b[0m \u001b[39mfrom\u001b[39;00m \u001b[39mkeras\u001b[39;00m\u001b[39m.\u001b[39;00m\u001b[39mutils\u001b[39;00m \u001b[39mimport\u001b[39;00m to_categorical\n\u001b[0;32m     <a href='vscode-notebook-cell:/c%3A/Users/jawad/OneDrive/Desktop/Lets%20Grow%20With/Data%20Science/Equation%20solver/Hand_Written_Equation_Solver.ipynb#W0sZmlsZQ%3D%3D?line=15'>16</a>\u001b[0m \u001b[39mimport\u001b[39;00m \u001b[39mcv2\u001b[39;00m\n",
            "File \u001b[1;32mc:\\Program Files\\Python310\\lib\\site-packages\\keras\\__init__.py:21\u001b[0m, in \u001b[0;36m<module>\u001b[1;34m\u001b[0m\n\u001b[0;32m     15\u001b[0m \u001b[39m\"\"\"Implementation of the Keras API, the high-level API of TensorFlow.\u001b[39;00m\n\u001b[0;32m     16\u001b[0m \n\u001b[0;32m     17\u001b[0m \u001b[39mDetailed documentation and user guides are available at\u001b[39;00m\n\u001b[0;32m     18\u001b[0m \u001b[39m[keras.io](https://keras.io).\u001b[39;00m\n\u001b[0;32m     19\u001b[0m \u001b[39m\"\"\"\u001b[39;00m\n\u001b[0;32m     20\u001b[0m \u001b[39m# pylint: disable=unused-import\u001b[39;00m\n\u001b[1;32m---> 21\u001b[0m \u001b[39mfrom\u001b[39;00m \u001b[39mtensorflow\u001b[39;00m\u001b[39m.\u001b[39;00m\u001b[39mpython\u001b[39;00m \u001b[39mimport\u001b[39;00m tf2\n\u001b[0;32m     22\u001b[0m \u001b[39mfrom\u001b[39;00m \u001b[39mkeras\u001b[39;00m \u001b[39mimport\u001b[39;00m distribute\n\u001b[0;32m     24\u001b[0m \u001b[39mfrom\u001b[39;00m \u001b[39mkeras\u001b[39;00m \u001b[39mimport\u001b[39;00m models\n",
            "\u001b[1;31mModuleNotFoundError\u001b[0m: No module named 'tensorflow'"
          ]
        }
      ],
      "source": [
        "# Import Required Libraries\n",
        "import numpy as np\n",
        "import os\n",
        "import PIL\n",
        "import PIL.Image\n",
        "import pandas as pd\n",
        "import pathlib\n",
        "from PIL import Image\n",
        "import matplotlib.image as mpimg\n",
        "import matplotlib.pyplot as plt\n",
        "from sklearn.model_selection import train_test_split\n",
        "from sklearn.manifold import TSNE\n",
        "import seaborn as sns\n",
        "from sklearn.preprocessing import LabelBinarizer\n",
        "from keras.utils import to_categorical\n",
        "import cv2"
      ]
    },
    {
      "cell_type": "code",
      "execution_count": 2,
      "metadata": {
        "colab": {
          "base_uri": "https://localhost:8080/"
        },
        "id": "nBph6gsf7u6O",
        "outputId": "feb93653-50de-4395-8078-0280c8e71525"
      },
      "outputs": [
        {
          "name": "stdout",
          "output_type": "stream",
          "text": [
            "Access denied with the following error:\n",
            "\n",
            " \tCannot retrieve the public link of the file. You may need to change\n",
            "\tthe permission to 'Anyone with the link', or have had many accesses. \n",
            "\n",
            "You may still be able to access the file from the browser:\n",
            "\n",
            "\t https://drive.google.com/uc?id=1UWmIUM4pNVtUrlSpD2T39Fj5axKm43Wz \n",
            "\n"
          ]
        }
      ],
      "source": [
        "# download dataset\n",
        "!gdown 1UWmIUM4pNVtUrlSpD2T39Fj5axKm43Wz"
      ]
    },
    {
      "cell_type": "code",
      "execution_count": null,
      "metadata": {
        "id": "1wLE6wljj2ez"
      },
      "outputs": [],
      "source": [
        "# Read data fro the folder\n",
        "folders=os.listdir( '/kaggle/input/handwrittenmathsymbols/extracted_images/')\n",
        "data = []\n",
        "label = []\n",
        "for m, each in enumerate(folders):\n",
        "    currentFolder = f'/kaggle/input/handwrittenmathsymbols/extracted_images/{each}'\n",
        "    for file in os.listdir(currentFolder):\n",
        "        im= cv2.imread((os.path.join(currentFolder, file)))\n",
        "        img=cv2.cvtColor(im,cv2.COLOR_BGR2GRAY)\n",
        "        resized_image = cv2.resize(img, (8,8))\n",
        "        img = img = np.array(resized_image)\n",
        "        img = img.ravel()\n",
        "        img = img.tolist()\n",
        "        data.append(img)\n",
        "        label.append(m)\n",
        "df = pd.DataFrame(data)\n",
        "df[\"label\"] = label\n",
        "\n",
        "df = df.sample(frac=1)\n",
        "df.head()"
      ]
    },
    {
      "cell_type": "code",
      "execution_count": null,
      "metadata": {
        "id": "0yfJmy2I3uL6"
      },
      "outputs": [],
      "source": [
        "df_new = df.sample(frac=1)\n",
        "X_train, X_test, y_train, y_test = train_test_split(df_new.iloc[:,:-1], df_new.iloc[:,-1], test_size=0.3, shuffle=False)"
      ]
    },
    {
      "cell_type": "code",
      "execution_count": null,
      "metadata": {
        "id": "qUOBBA0i3w7D"
      },
      "outputs": [],
      "source": [
        "print('Training dataset contains: ', X_train.shape, ' data')\n",
        "print('Testing dataset contains: ', X_test.shape, ' data')\n",
        "print('Validation dataset contains: ', y_train.shape, ' data')\n",
        "print('Validation dataset contains: ', y_test.shape, ' data')"
      ]
    },
    {
      "cell_type": "code",
      "execution_count": null,
      "metadata": {
        "id": "jWQdsEgV3zA9"
      },
      "outputs": [],
      "source": [
        "from sklearn.metrics import classification_report\n",
        "\n",
        "def svm_model(X_train, X_test, y_train, y_test):\n",
        "    from sklearn import svm\n",
        "    svm_classifier = svm.SVC(kernel='rbf',gamma=0.001,C=5)\n",
        "    svm_classifier.fit(X_train, y_train)\n",
        "    predicted = svm_classifier.predict(X_test)\n",
        "    Predicted = np.argmax(predicted, axis=1)\n",
        "    print(classification_report(y_test.argmax(axis=1), Predicted,target_names=lb.classes_))\n",
        "\n",
        "def gaussian_naive_bayes(X_train, X_test, y_train, y_test):\n",
        "    from sklearn.naive_bayes import GaussianNB\n",
        "    GNB_classifier = GaussianNB()\n",
        "    GNB_classifier.fit(X_train, y_train)\n",
        "    predicted = GNB_classifier.predict(X_test)\n",
        "    return (len(X_test[predicted == y_test]) / len(X_test)) * 100\n",
        "def decision_tree(X_train, X_test, y_train, y_test):\n",
        "    from sklearn import tree\n",
        "    dt_classifier = tree.DecisionTreeClassifier()\n",
        "    dt_classifier.fit(X_train, y_train)\n",
        "    predicted = dt_classifier.predict(X_test)\n",
        "    return len(X_test[predicted == y_test]) / len(X_test) * 100\n",
        "\n",
        "def random_forest(X_train, X_test, y_train, y_test):\n",
        "    from sklearn.ensemble import RandomForestClassifier\n",
        "    RF_classifier = RandomForestClassifier(max_depth=2, random_state=0)\n",
        "    RF_classifier.fit(X_train, y_train)\n",
        "    predicted = RF_classifier.predict(X_test)\n",
        "    return len(X_test[predicted == y_test]) / len(X_test) * 100\n",
        "\n",
        "def k_nearest_neighbors(X_train, X_test, y_train, y_test):\n",
        "    from sklearn.neighbors import KNeighborsClassifier\n",
        "    KNN_classifier = KNeighborsClassifier(n_neighbors=5, metric='euclidean')\n",
        "    KNN_classifier.fit(X_train, y_train)\n",
        "    predicted = KNN_classifier.predict(X_test)\n",
        "    return len(X_test[predicted == y_test]) / len(X_test) * 100\n",
        "\n",
        "def stochastic_gradient_decend(X_train, X_test, y_train, y_test):\n",
        "    from sklearn.linear_model import SGDClassifier\n",
        "    sgd_classifier = SGDClassifier(loss=\"hinge\", penalty=\"l2\", max_iter=5)\n",
        "    sgd_classifier.fit(X_train, y_train)\n",
        "    predicted = sgd_classifier.predict(X_test)\n",
        "    return len(X_test[predicted == y_test]) / len(X_test) * 100\n",
        "\n",
        "def xgboost(X_train, X_test, y_train, y_test):\n",
        "    from xgboost import XGBClassifier\n",
        "    model = XGBClassifier()\n",
        "    model.fit(X_train, y_train)\n",
        "    predicted = model.predict(X_test)\n",
        "    return len(X_test[predicted == y_test]) / len(X_test) * 100\n",
        "\n",
        "def using_tsne(X_train,y_train):\n",
        "\n",
        "    tsne = TSNE()\n",
        "    X_embedded = tsne.fit_transform(X_train)\n",
        "    sns.scatterplot(X_embedded[:, 0], X_embedded[:, 1], hue=y_train, legend='full', palette=palette)\n",
        "    plt.show()"
      ]
    },
    {
      "cell_type": "code",
      "execution_count": null,
      "metadata": {
        "id": "xOsMkq6L32ul"
      },
      "outputs": [],
      "source": [
        "k_nearest_neighbors(X_train, X_test, y_train, y_test)"
      ]
    },
    {
      "cell_type": "code",
      "execution_count": null,
      "metadata": {
        "id": "Lbxxb0XI34oM"
      },
      "outputs": [],
      "source": [
        "print(random_forest(X_train, X_test, y_train, y_test))"
      ]
    },
    {
      "cell_type": "code",
      "execution_count": null,
      "metadata": {
        "id": "LfY5O_Pa36O8"
      },
      "outputs": [],
      "source": [
        "print(decision_tree(X_train, X_test, y_train, y_test))"
      ]
    },
    {
      "cell_type": "code",
      "execution_count": null,
      "metadata": {
        "id": "Ov4XnxlH3742"
      },
      "outputs": [],
      "source": [
        "from sklearn.linear_model import LinearRegression\n",
        "model = LinearRegression()\n",
        "model.fit(X_train, y_train)\n",
        "y_pred = model.predict(X_test)\n",
        "plt.scatter(y_test,y_pred)\n",
        "plt.xlabel('Y Test (True Values)')\n",
        "plt.ylabel('Predicted Values')\n",
        "plt.title('Predicted vs. Actual Values ')"
      ]
    },
    {
      "cell_type": "code",
      "execution_count": null,
      "metadata": {
        "id": "wgWNuIcz39s4"
      },
      "outputs": [],
      "source": [
        "from sklearn.linear_model import LogisticRegression\n",
        "from sklearn.ensemble import RandomForestClassifier\n",
        "from sklearn.metrics import accuracy_score\n",
        "\n",
        "\n",
        "model = RandomForestClassifier(n_estimators=100)\n",
        "model.fit(X_train, y_train)\n",
        "y_pred = model.predict(X_test)\n",
        "\n",
        "accuracy_score(y_test,y_pred)"
      ]
    },
    {
      "cell_type": "code",
      "execution_count": null,
      "metadata": {
        "id": "GED3Iri64ATi"
      },
      "outputs": [],
      "source": []
    }
  ],
  "metadata": {
    "colab": {
      "name": "Hand-Written-Equation-Solver.ipynb",
      "provenance": []
    },
    "kernelspec": {
      "display_name": "Python 3.10.5 64-bit",
      "language": "python",
      "name": "python3"
    },
    "language_info": {
      "codemirror_mode": {
        "name": "ipython",
        "version": 3
      },
      "file_extension": ".py",
      "mimetype": "text/x-python",
      "name": "python",
      "nbconvert_exporter": "python",
      "pygments_lexer": "ipython3",
      "version": "3.10.5"
    },
    "vscode": {
      "interpreter": {
        "hash": "26de051ba29f2982a8de78e945f0abaf191376122a1563185a90213a26c5da77"
      }
    }
  },
  "nbformat": 4,
  "nbformat_minor": 0
}
